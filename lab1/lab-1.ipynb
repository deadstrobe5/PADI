{
 "cells": [
  {
   "cell_type": "markdown",
   "metadata": {},
   "source": [
    "# Learning and Decision Making"
   ]
  },
  {
   "cell_type": "markdown",
   "metadata": {},
   "source": [
    "## Laboratory 1: Markov chains\n",
    "\n",
    "In the end of the lab, you should export the notebook to a Python script (File >> Download as >> Python (.py)). Your file should be named `padi-lab1-groupXX.py`, where the `XX` corresponds to your group number and should be submitted to the e-mail <adi.tecnico@gmail.com>. \n",
    "\n",
    "Make sure...\n",
    "\n",
    "* **... that the subject is of the form `[<group n.>] LAB <lab n.>`.** \n",
    "\n",
    "* **... to strictly respect the specifications in each activity, in terms of the intended inputs, outputs and naming conventions.** \n",
    "\n",
    "In particular, after completing the activities you should be able to replicate the examples provided (although this, in itself, is no guarantee that the activities are correctly completed).\n",
    "\n",
    "### 1. The Markov chain model\n",
    "\n",
    "Consider once again the shuttle modeling problem described in the Homework and for which you wrote a Markov chain model:\n",
    "\n",
    "<img src=\"shuttle.png\" width=\"800px\">\n",
    "\n",
    "Recall that your chain should describe the motion of the single shuttle traveling the network, where: \n",
    "\n",
    "* All stops are considered similar, in terms of shuttle behavior;\n",
    "* At each moment, there is a single shuttle traversing the city;\n",
    "* When at I.S.T. TagusPark, the shuttle will go directly to Sete Rios with a probability of 70%, and to Oeiras with a 30% probability. Similarly, when at Sete Rios, the shuttle will go directly to I.S.T. Alameda with a 50% probability, and through Praça de Londres with a 50% probability.\n",
    "\n",
    "In this first activity, you will implement your Markov chain model in Python. You should label the different shuttle stops as `'0'`, `'1'`, `'2'`, `'3'`, `'4'` (note that these are strings), from left to right in the diagram above. For example, \"I.S.T. TagusPark\" corresponds to `'0'`, while \"Praça de Londres\" corresponds to `'3'`."
   ]
  },
  {
   "cell_type": "markdown",
   "metadata": {},
   "source": [
    "---\n",
    "\n",
    "#### Activity 1.        \n",
    "\n",
    "Write a function named `load_chain` that receives **no input arguments** and returns, as output, a two-element tuple corresponding to the Markov chain, where:\n",
    "\n",
    "* ... the first element is a tuple containing an enumeration of the state-space (i.e., each element of the tuple corresponds to a state of the chain, represented as a string).\n",
    "* ... the second element is a `numpy` array corresponding to the transition probability matrix for the chain.\n",
    "\n",
    "**Note**: Don't forget to import `numpy`.\n",
    "\n",
    "---"
   ]
  },
  {
   "cell_type": "code",
   "execution_count": 7,
   "metadata": {
    "ExecuteTime": {
     "end_time": "2020-09-24T17:37:30.996024Z",
     "start_time": "2020-09-24T17:37:30.987841Z"
    }
   },
   "outputs": [],
   "source": [
    "import numpy as np\n",
    "\n",
    "def load_chain():\n",
    "    first = ('0', '1', '2', '3', '4')\n",
    "    second = np.array([[0, 0.3, 0.7, 0, 0],[0, 0, 1, 0, 0],[0, 0, 0, 0.5, 0.5],[0, 0, 0, 0, 1],[1, 0, 0, 0, 0]])\n",
    "    return (first, second)\n",
    "\n",
    "M = load_chain()\n"
   ]
  },
  {
   "cell_type": "markdown",
   "metadata": {},
   "source": [
    "We provide below an example of application of the function, that you can use as a first \"sanity check\" for your code. Note, however, that the fact that you can replicate the examples below is not indicative that your code is correct.\n",
    "\n",
    "```python\n",
    "print('Number of states:', len(M[0]))\n",
    "print('Type of states:', type(M[0][0]))\n",
    "print('\\nTransition probability matrix (type):', type(M[1]))\n",
    "print('Transition probability matrix (dimension):', M[1].shape)\n",
    "```\n",
    "\n",
    "Output:\n",
    "```\n",
    "Number of states: 5\n",
    "Type of states: <class 'str'>\n",
    "\n",
    "Transition probability matrix (type): <class 'numpy.ndarray'>\n",
    "Transition probability matrix (dimension): (5, 5)\n",
    " ```"
   ]
  },
  {
   "cell_type": "markdown",
   "metadata": {},
   "source": [
    "In the next activity, you will use the Markov chain model to evaluate the likelihood of any given path for the bot.\n",
    "\n",
    "---\n",
    "\n",
    "#### Activity 2.\n",
    "\n",
    "Write a function `prob_trajectory` that receives, as inputs, \n",
    "\n",
    "* ... a Markov chain in the form of a tuple like the one returned by the function in Activity 1;\n",
    "* ... a trajectory, corresponding to a sequence of states (i.e., a tuple or list of strings, each string corresponding to a state).\n",
    "\n",
    "Your function should return, as output, a floating point number corresponding to the probability of observing the provided trajectory, taking the first state in the trajectory as initial state. \n",
    "\n",
    "---"
   ]
  },
  {
   "cell_type": "code",
   "execution_count": 8,
   "metadata": {
    "ExecuteTime": {
     "end_time": "2020-09-24T17:40:07.912333Z",
     "start_time": "2020-09-24T17:40:07.904515Z"
    }
   },
   "outputs": [],
   "source": [
    "def prob_trajectory(M, T):\n",
    "    matrix = M[1]\n",
    "    states = M[0]\n",
    "    prob = 1\n",
    "    for i in range(len(T)-1):\n",
    "        origin = states.index(T[i])\n",
    "        destiny = states.index(T[i+1])\n",
    "        prob = prob * matrix[origin][destiny]\n",
    "\n",
    "    return prob\n"
   ]
  },
  {
   "cell_type": "markdown",
   "metadata": {},
   "source": [
    "Example of application of the function with the chain $M$ from Activity 1.\n",
    "\n",
    "```python\n",
    "print('Prob. of trajectory (1, 2, 3):', prob_trajectory(M, ('1', '2', '3')))\n",
    "print('Prob. of trajectory (4, 0, 1, 2, 3):', prob_trajectory(M, ('4', '0', '1', '2', '3')))\n",
    "print('Prob. of trajectory (4, 0, 4):', prob_trajectory(M, ('4', '0', '4')))\n",
    "print('Prob. of trajectory (0, 2, 4):', prob_trajectory(M, ('0', '2', '4')))\n",
    "```\n",
    "\n",
    "Output:\n",
    "```\n",
    "Prob. of trajectory (1, 2, 3): 0.5\n",
    "Prob. of trajectory (4, 0, 1, 2, 3): 0.15\n",
    "Prob. of trajectory (4, 0, 4): 0.0\n",
    "Prob. of trajectory (0, 2, 4): 0.35\n",
    "```\n",
    "\n",
    "Note that your function should work with **any** Markov chain that is specified as a tuple like the one from Activity 1."
   ]
  },
  {
   "cell_type": "markdown",
   "metadata": {},
   "source": [
    "### 2. Stability"
   ]
  },
  {
   "cell_type": "markdown",
   "metadata": {},
   "source": [
    "The next activities explore the notion of *stationary distribution* for the chain, a central concept in the the PageRank algorithm.\n",
    "\n",
    "---\n",
    "\n",
    "#### Activity 3\n",
    "\n",
    "Write a function `stationary_dist` that receives, as input, a Markov chain in the form of a tuple like the one returned by the function in Activity 1. Your function should return, as output, a `numpy` array corresponding to a row vector containing the stationary distribution for the chain.\n",
    "\n",
    "**Note:** The stationary distribution is a *left* eigenvector of the transition probability matrix associated to the eigenvalue 1. As such, you may find useful the numpy function `numpy.linalg.eig`. Also, recall that the stationary distribution is *a distribution*.\n",
    "\n",
    "---"
   ]
  },
  {
   "cell_type": "code",
   "execution_count": 9,
   "metadata": {
    "ExecuteTime": {
     "end_time": "2020-09-24T17:41:48.907805Z",
     "start_time": "2020-09-24T17:41:48.892401Z"
    }
   },
   "outputs": [],
   "source": [
    "def stationary_dist(M):\n",
    "    matrix = M[1]\n",
    "    vec = np.linalg.eig(matrix.T)[1][:,0]\n",
    "    normalized = (vec / vec.sum()).real\n",
    "    return normalized\n",
    "\n",
    "u_star = stationary_dist(M)\n",
    "\n",
    "u_prime = u_star.dot(M[1])\n"
   ]
  },
  {
   "cell_type": "markdown",
   "metadata": {},
   "source": [
    "Example of application of the function with the chain $M$ from Activity 1.\n",
    "\n",
    "```python\n",
    "u_star = stationary_dist(M)\n",
    "\n",
    "print('Stationary distribution:')\n",
    "print(u_star)\n",
    "\n",
    "u_prime = u_star.dot(M[1])\n",
    "\n",
    "print('\\nIs u* * P = u*?', np.all(np.isclose(u_prime, u_star)))\n",
    "```\n",
    "\n",
    "Output:\n",
    "```\n",
    "Stationary distribution:\n",
    "[0.263 0.079 0.263 0.132 0.263]\n",
    "\n",
    "Is u* * P = u*? True\n",
    "```\n",
    "\n",
    "All numbers above have been rounded to 3 decimal cases. You **should not** round your results, but can use the numbers above as a comparison."
   ]
  },
  {
   "cell_type": "markdown",
   "metadata": {},
   "source": [
    "To complement Activity 3, you will now empirically establish that the chain is ergodic, i.e., no matter where the bot starts, its visitation frequency will eventually converge to the stationary distribution.\n",
    "\n",
    "---\n",
    "\n",
    "#### Activity 4.\n",
    "\n",
    "Write a function `compute_dist` that receives, as inputs, \n",
    "\n",
    "* ... a Markov chain in the form of a tuple like the one returned by the function in Activity 1;\n",
    "* ... a row vector (a numpy array) corresponding to the initial distribution for the chain;\n",
    "* ... an integer $N$, corresponding to the number of steps that the bot is expected to take.\n",
    "\n",
    "Your function should return, as output, a row vector (a `numpy` array) containing the distribution after $N$ steps of the chain.\n",
    "\n",
    "---"
   ]
  },
  {
   "cell_type": "code",
   "execution_count": 10,
   "metadata": {
    "ExecuteTime": {
     "end_time": "2020-09-24T17:42:29.107319Z",
     "start_time": "2020-09-24T17:42:29.099857Z"
    }
   },
   "outputs": [],
   "source": [
    "def compute_dist(M, D, N):\n",
    "    i = 0\n",
    "    res = D\n",
    "    for i in range(N):\n",
    "        res = np.matmul(res,M[1])\n",
    "\n",
    "    return res\n",
    "\n",
    "# Number of states\n",
    "nS = len(M[0])\n",
    "\n",
    "# Initial, uniform distribution\n",
    "u = np.ones((1, nS)) / nS\n",
    "\n",
    "# Distrbution after 100 steps\n",
    "v = compute_dist(M, u, 10)\n",
    "\n",
    "\n",
    "# Distrbution after 1000 steps\n",
    "v = compute_dist(M, u, 100)"
   ]
  },
  {
   "cell_type": "markdown",
   "metadata": {},
   "source": [
    "Example of application of the function with the chain $M$ from Activity 1.\n",
    "\n",
    "```python\n",
    "# Number of states\n",
    "nS = len(M[0])\n",
    "\n",
    "# Initial, uniform distribution\n",
    "u = np.ones((1, nS)) / nS\n",
    "\n",
    "# Distrbution after 100 steps\n",
    "v = compute_dist(M, u, 10)\n",
    "print('\\nIs u * P^10 = u*?', np.all(np.isclose(v, u_star)))\n",
    "\n",
    "# Distrbution after 1000 steps\n",
    "v = compute_dist(M, u, 100)\n",
    "print('\\nIs u * P^100 = u*?', np.all(np.isclose(v, u_star)))\n",
    "```\n",
    "\n",
    "Output:\n",
    "```\n",
    "Is u * P^10 = u*? False\n",
    "\n",
    "Is u * P^100 = u*? True\n",
    "```"
   ]
  },
  {
   "cell_type": "markdown",
   "metadata": {},
   "source": [
    "Is the chain ergodic? Justify, based on the results above."
   ]
  },
  {
   "cell_type": "markdown",
   "metadata": {},
   "source": [
    "<span style=\"color:blue\">Yes, because initially the destribution is not stationary (t=10), but the chain eventually reaches the stationary destribution (t=100). </span>"
   ]
  },
  {
   "cell_type": "markdown",
   "metadata": {},
   "source": [
    "### 3. Simulation\n",
    "\n",
    "In this part of the lab, you will *simulate* the actual bot, and empirically compute the visitation frequency of each state."
   ]
  },
  {
   "cell_type": "markdown",
   "metadata": {},
   "source": [
    "---\n",
    "\n",
    "#### Activity 5\n",
    "\n",
    "Write down a function `simulate` that receives, as inputs, \n",
    "\n",
    "* ... a Markov chain in the form of a tuple like the one returned by the function in Activity 1;\n",
    "* ... a row vector (a `numpy` array) corresponding to the initial distribution for the chain;\n",
    "* ... an integer $N$, corresponding to the number of steps that the bot is expected to take.\n",
    "\n",
    "Your function should return, as output, a tuple containing a trajectory of $N$ steps obtained from the initial distribution provided. Each element in the tuple should be a string corresponding to a state index.\n",
    "\n",
    "---\n",
    "\n",
    "**Note:** You may find useful to import the numpy module `numpy.random`."
   ]
  },
  {
   "cell_type": "code",
   "execution_count": 11,
   "metadata": {
    "ExecuteTime": {
     "end_time": "2020-09-24T17:43:39.189231Z",
     "start_time": "2020-09-24T17:43:38.832378Z"
    }
   },
   "outputs": [],
   "source": [
    "def simulate(M, u, N):\n",
    "    \n",
    "    states = M[0]\n",
    "    matrix = M[1]\n",
    "    trajectory = ()\n",
    "    \n",
    "    # Select where the bot is at t=0, from the distribution\n",
    "    choice = np.random.choice(len(M[0]), 1, p=u[0])[0]\n",
    "    trajectory += (states[choice],)\n",
    "    \n",
    "    # Calculate the trajectory\n",
    "    for i in range(N-1):\n",
    "        row = matrix[choice]\n",
    "        choice = np.random.choice(len(M[0]), 1, p=row)[0]\n",
    "        trajectory += (states[choice],)\n",
    "        \n",
    "    return trajectory\n",
    "       \n",
    "    \n",
    "# Number of states\n",
    "nS = len(M[0])\n",
    "\n",
    "# Initial, uniform distribution\n",
    "u = np.ones((1, nS)) / nS\n",
    "\n",
    "np.random.seed(42)\n",
    "\n",
    "# Simulate short trajectory\n",
    "traj = simulate(M, u, 10)\n",
    "\n",
    "\n",
    "# Simulate a long trajectory\n",
    "traj = simulate(M, u, 10000)"
   ]
  },
  {
   "cell_type": "markdown",
   "metadata": {},
   "source": [
    "Example of application of the function with the chain $M$ from Activity 1.\n",
    "\n",
    "```python\n",
    "# Number of states\n",
    "nS = len(M[0])\n",
    "\n",
    "# Initial, uniform distribution\n",
    "u = np.ones((1, nS)) / nS\n",
    "\n",
    "np.random.seed(42)\n",
    "\n",
    "# Simulate short trajectory\n",
    "traj = simulate(M, u, 10)\n",
    "print(traj)\n",
    "\n",
    "# Simulate a long trajectory\n",
    "traj = simulate(M, u, 10000)\n",
    "```\n",
    "\n",
    "Output:\n",
    "```\n",
    "('1', '2', '4', '0', '1', '2', '3', '4', '0', '2')\n",
    "```\n",
    "\n",
    "Note that, even if the seed is fixed, it is possible that your trajectories are slightly different."
   ]
  },
  {
   "cell_type": "markdown",
   "metadata": {},
   "source": [
    "---\n",
    "\n",
    "#### Activity 6\n",
    "\n",
    "Draw a histogram of the $10,000$-step trajectory generated in the example of Activity #5 using the function `hist` from the module `matplotlib.pyplot`. Make sure that the histogram has one bin for each state. Compare the relative frequencies with the result of Activity #3.\n",
    "\n",
    "**Note**: Don't forget to load `matplotlib`. \n",
    "\n",
    "**Note 2**: Recall that the states in the trajectory from Activity #5 consist of strings, which should be converted to state indices to match the entries in the distribution computed in Activity #3.\n",
    "\n",
    "---"
   ]
  },
  {
   "cell_type": "code",
   "execution_count": 12,
   "metadata": {
    "ExecuteTime": {
     "end_time": "2020-09-24T17:47:06.647350Z",
     "start_time": "2020-09-24T17:47:06.168651Z"
    }
   },
   "outputs": [
    {
     "data": {
      "image/png": "[encoded data removed]",
      "text/plain": [
       "<Figure size 432x288 with 1 Axes>"
      ]
     },
     "metadata": {
      "needs_background": "light"
     },
     "output_type": "display_data"
    }
   ],
   "source": [
    "import matplotlib.pyplot as plt\n",
    "\n",
    "# Getting the indices from the type string states\n",
    "traj_int = ()\n",
    "states = M[0]\n",
    "for i in traj:\n",
    "    traj_int += (states.index(i),)\n",
    "    \n",
    "\n",
    "# We use plt.hist to calculate the relative frequencies\n",
    "\n",
    "n, bins, patches = plt.hist(traj_int, bins=range(len(states)+1), density=True , rwidth=0)\n",
    "\n",
    "# We plot bar graph (with the values obtained before) to be more clear\n",
    "\n",
    "plt.bar(x=range(len(states)), height=n, width=0.7)\n",
    "\n",
    "plt.xlabel('State') \n",
    "plt.ylabel('Frequency') \n",
    "  \n",
    "plt.title('\\nState distribution after 10000 steps\\n\\n', fontweight =\"bold\")\n",
    "\n",
    "\n",
    "# Histogram's width is 0 because we only want to plot the bar graph\n",
    "plt.show()\n",
    "\n",
    "\n",
    "\n",
    "\n",
    "\n",
    "#print('Rounded graph values:')\n",
    "#print(np.round(n, 4))\n",
    "#print('\\nRounded values of stationary distribution (Activity #3):')\n",
    "#print(np.round(u_star, 4))\n",
    "\n",
    "\n",
    "\n",
    "\n"
   ]
  },
  {
   "cell_type": "markdown",
   "metadata": {},
   "source": [
    "Answer: The relative frequencies for each state are very close to the values predicted by the stationary distribution. We can conclude that as the number of steps increases the destribution will get closer and closer to the stationary destribution predicted in activity #3."
   ]
  }
 ],
 "metadata": {
  "kernelspec": {
   "display_name": "Python 3",
   "language": "python",
   "name": "python3"
  },
  "language_info": {
   "codemirror_mode": {
    "name": "ipython",
    "version": 3
   },
   "file_extension": ".py",
   "mimetype": "text/x-python",
   "name": "python",
   "nbconvert_exporter": "python",
   "pygments_lexer": "ipython3",
   "version": "3.7.4"
  },
  "latex_envs": {
   "LaTeX_envs_menu_present": true,
   "autoclose": false,
   "autocomplete": true,
   "bibliofile": "biblio.bib",
   "cite_by": "apalike",
   "current_citInitial": 1,
   "eqLabelWithNumbers": true,
   "eqNumInitial": 1,
   "hotkeys": {
    "equation": "Ctrl-E",
    "itemize": "Ctrl-I"
   },
   "labels_anchors": false,
   "latex_user_defs": false,
   "report_style_numbering": false,
   "user_envs_cfg": false
  }
 },
 "nbformat": 4,
 "nbformat_minor": 1
}
